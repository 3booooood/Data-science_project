{
 "cells": [
  {
   "cell_type": "code",
   "id": "initial_id",
   "metadata": {
    "collapsed": true,
    "jupyter": {
     "is_executing": true
    }
   },
   "source": [
    "import numpy as np\n",
    "import pandas as pd\n",
    "import matplotlib.pyplot as plt\n",
    "import seaborn as sns"
   ],
   "outputs": [],
   "execution_count": null
  },
  {
   "metadata": {
    "jupyter": {
     "is_executing": true
    }
   },
   "cell_type": "code",
   "source": [
    "Data_set = pd.read_csv(r'AffectOfMobilePhonesOnStudents.csv')\n",
    "Data_set.info()"
   ],
   "id": "a38649f13e0c8b3f",
   "outputs": [],
   "execution_count": null
  },
  {
   "metadata": {
    "ExecuteTime": {
     "end_time": "2025-04-28T17:33:29.365061Z",
     "start_time": "2025-04-28T17:33:29.200977Z"
    }
   },
   "cell_type": "code",
   "source": "Data_set.describe()",
   "id": "24b6afebc22e13e7",
   "outputs": [
    {
     "data": {
      "text/plain": [
       "       Names    Age Gender  Mobile Phone  Mobile Operating System   \\\n",
       "count     99     99      99            99                       99   \n",
       "unique    99      4       2             1                        2   \n",
       "top      Ali  21-25    Male           Yes                  Android   \n",
       "freq       1     71      81            99                       80   \n",
       "\n",
       "       Mobile phone use for education Mobile phone activities  \\\n",
       "count                              99                      99   \n",
       "unique                              4                       7   \n",
       "top                         Sometimes            All of these   \n",
       "freq                               52                      59   \n",
       "\n",
       "       Helpful for studying    Educational Apps Daily usages  \\\n",
       "count                    98                  98           99   \n",
       "unique                    2                   4            4   \n",
       "top                     Yes  Educational Videos    4-6 hours   \n",
       "freq                     94                  54           40   \n",
       "\n",
       "       Performance impact Usage distraction Attention span  Useful features  \\\n",
       "count                  99                98             99               98   \n",
       "unique                  5                 4              2                4   \n",
       "top                 Agree    While Studying            Yes  Internet Access   \n",
       "freq                   40                34             70               70   \n",
       "\n",
       "       Health Risks Beneficial subject Usage symptoms Symptom frequency  \\\n",
       "count            98                 99             98                99   \n",
       "unique            3                  3              6                 4   \n",
       "top             Yes           Reasarch   All of these         Sometimes   \n",
       "freq             57                 48             32                52   \n",
       "\n",
       "          Health precautions Health rating  \n",
       "count                     99            99  \n",
       "unique                     4             7  \n",
       "top     Limiting Screen Time          Good  \n",
       "freq                      35            42  "
      ],
      "text/html": [
       "<div>\n",
       "<style scoped>\n",
       "    .dataframe tbody tr th:only-of-type {\n",
       "        vertical-align: middle;\n",
       "    }\n",
       "\n",
       "    .dataframe tbody tr th {\n",
       "        vertical-align: top;\n",
       "    }\n",
       "\n",
       "    .dataframe thead th {\n",
       "        text-align: right;\n",
       "    }\n",
       "</style>\n",
       "<table border=\"1\" class=\"dataframe\">\n",
       "  <thead>\n",
       "    <tr style=\"text-align: right;\">\n",
       "      <th></th>\n",
       "      <th>Names</th>\n",
       "      <th>Age</th>\n",
       "      <th>Gender</th>\n",
       "      <th>Mobile Phone</th>\n",
       "      <th>Mobile Operating System</th>\n",
       "      <th>Mobile phone use for education</th>\n",
       "      <th>Mobile phone activities</th>\n",
       "      <th>Helpful for studying</th>\n",
       "      <th>Educational Apps</th>\n",
       "      <th>Daily usages</th>\n",
       "      <th>Performance impact</th>\n",
       "      <th>Usage distraction</th>\n",
       "      <th>Attention span</th>\n",
       "      <th>Useful features</th>\n",
       "      <th>Health Risks</th>\n",
       "      <th>Beneficial subject</th>\n",
       "      <th>Usage symptoms</th>\n",
       "      <th>Symptom frequency</th>\n",
       "      <th>Health precautions</th>\n",
       "      <th>Health rating</th>\n",
       "    </tr>\n",
       "  </thead>\n",
       "  <tbody>\n",
       "    <tr>\n",
       "      <th>count</th>\n",
       "      <td>99</td>\n",
       "      <td>99</td>\n",
       "      <td>99</td>\n",
       "      <td>99</td>\n",
       "      <td>99</td>\n",
       "      <td>99</td>\n",
       "      <td>99</td>\n",
       "      <td>98</td>\n",
       "      <td>98</td>\n",
       "      <td>99</td>\n",
       "      <td>99</td>\n",
       "      <td>98</td>\n",
       "      <td>99</td>\n",
       "      <td>98</td>\n",
       "      <td>98</td>\n",
       "      <td>99</td>\n",
       "      <td>98</td>\n",
       "      <td>99</td>\n",
       "      <td>99</td>\n",
       "      <td>99</td>\n",
       "    </tr>\n",
       "    <tr>\n",
       "      <th>unique</th>\n",
       "      <td>99</td>\n",
       "      <td>4</td>\n",
       "      <td>2</td>\n",
       "      <td>1</td>\n",
       "      <td>2</td>\n",
       "      <td>4</td>\n",
       "      <td>7</td>\n",
       "      <td>2</td>\n",
       "      <td>4</td>\n",
       "      <td>4</td>\n",
       "      <td>5</td>\n",
       "      <td>4</td>\n",
       "      <td>2</td>\n",
       "      <td>4</td>\n",
       "      <td>3</td>\n",
       "      <td>3</td>\n",
       "      <td>6</td>\n",
       "      <td>4</td>\n",
       "      <td>4</td>\n",
       "      <td>7</td>\n",
       "    </tr>\n",
       "    <tr>\n",
       "      <th>top</th>\n",
       "      <td>Ali</td>\n",
       "      <td>21-25</td>\n",
       "      <td>Male</td>\n",
       "      <td>Yes</td>\n",
       "      <td>Android</td>\n",
       "      <td>Sometimes</td>\n",
       "      <td>All of these</td>\n",
       "      <td>Yes</td>\n",
       "      <td>Educational Videos</td>\n",
       "      <td>4-6 hours</td>\n",
       "      <td>Agree</td>\n",
       "      <td>While Studying</td>\n",
       "      <td>Yes</td>\n",
       "      <td>Internet Access</td>\n",
       "      <td>Yes</td>\n",
       "      <td>Reasarch</td>\n",
       "      <td>All of these</td>\n",
       "      <td>Sometimes</td>\n",
       "      <td>Limiting Screen Time</td>\n",
       "      <td>Good</td>\n",
       "    </tr>\n",
       "    <tr>\n",
       "      <th>freq</th>\n",
       "      <td>1</td>\n",
       "      <td>71</td>\n",
       "      <td>81</td>\n",
       "      <td>99</td>\n",
       "      <td>80</td>\n",
       "      <td>52</td>\n",
       "      <td>59</td>\n",
       "      <td>94</td>\n",
       "      <td>54</td>\n",
       "      <td>40</td>\n",
       "      <td>40</td>\n",
       "      <td>34</td>\n",
       "      <td>70</td>\n",
       "      <td>70</td>\n",
       "      <td>57</td>\n",
       "      <td>48</td>\n",
       "      <td>32</td>\n",
       "      <td>52</td>\n",
       "      <td>35</td>\n",
       "      <td>42</td>\n",
       "    </tr>\n",
       "  </tbody>\n",
       "</table>\n",
       "</div>"
      ]
     },
     "execution_count": 4,
     "metadata": {},
     "output_type": "execute_result"
    }
   ],
   "execution_count": 4
  },
  {
   "metadata": {
    "ExecuteTime": {
     "end_time": "2025-04-29T10:51:39.933330Z",
     "start_time": "2025-04-29T10:51:39.883421Z"
    }
   },
   "cell_type": "code",
   "source": "Data_set.isnull().sum()",
   "id": "bd28a521c5c313bb",
   "outputs": [
    {
     "data": {
      "text/plain": [
       "Names                             0\n",
       "Age                               0\n",
       "Gender                            0\n",
       "Mobile Phone                      0\n",
       "Mobile Operating System           0\n",
       "Mobile phone use for education    0\n",
       "Mobile phone activities           0\n",
       "Helpful for studying              1\n",
       "Educational Apps                  1\n",
       "Daily usages                      0\n",
       "Performance impact                0\n",
       "Usage distraction                 1\n",
       "Attention span                    0\n",
       "Useful features                   1\n",
       "Health Risks                      1\n",
       "Beneficial subject                0\n",
       "Usage symptoms                    1\n",
       "Symptom frequency                 0\n",
       "Health precautions                0\n",
       "Health rating                     0\n",
       "dtype: int64"
      ]
     },
     "execution_count": 5,
     "metadata": {},
     "output_type": "execute_result"
    }
   ],
   "execution_count": 5
  },
  {
   "metadata": {
    "ExecuteTime": {
     "end_time": "2025-04-29T10:52:19.001307Z",
     "start_time": "2025-04-29T10:52:18.616136Z"
    }
   },
   "cell_type": "code",
   "source": "Data_set.duplicated().sum() #No duplicates",
   "id": "9a1964f63a18dced",
   "outputs": [
    {
     "data": {
      "text/plain": [
       "np.int64(0)"
      ]
     },
     "execution_count": 6,
     "metadata": {},
     "output_type": "execute_result"
    }
   ],
   "execution_count": 6
  },
  {
   "metadata": {
    "jupyter": {
     "is_executing": true
    }
   },
   "cell_type": "code",
   "source": "Data_set",
   "id": "99c15f28c54c675b",
   "outputs": [],
   "execution_count": null
  },
  {
   "metadata": {
    "ExecuteTime": {
     "end_time": "2025-04-29T12:39:08.446596Z",
     "start_time": "2025-04-29T12:39:08.441545Z"
    }
   },
   "cell_type": "code",
   "source": "Data_set['Helpful for studying'].fillna(Data_set['Helpful for studying'].mode()[0], inplace=True)\n",
   "id": "3657172421b188e0",
   "outputs": [],
   "execution_count": 21
  },
  {
   "metadata": {
    "ExecuteTime": {
     "end_time": "2025-04-29T12:40:28.915969Z",
     "start_time": "2025-04-29T12:40:28.900629Z"
    }
   },
   "cell_type": "code",
   "source": "Data_set.isnull().sum()",
   "id": "7d0cb9612a7b58c2",
   "outputs": [
    {
     "data": {
      "text/plain": [
       "Names                              0\n",
       "Age                                0\n",
       "Gender                             0\n",
       "Mobile Phone                       0\n",
       "Mobile Operating System            0\n",
       "Mobile phone use for education     0\n",
       "Mobile phone activities            0\n",
       "Helpful for studying               0\n",
       "Educational Apps                   0\n",
       "Daily usages                       0\n",
       "Performance impact                 0\n",
       "Usage distraction                  1\n",
       "Attention span                     0\n",
       "Useful features                    1\n",
       "Health Risks                       1\n",
       "Beneficial subject                 0\n",
       "Usage symptoms                     1\n",
       "Symptom frequency                  0\n",
       "Health precautions                 0\n",
       "Health rating                      0\n",
       "Age_numeric                       15\n",
       "dtype: int64"
      ]
     },
     "execution_count": 23,
     "metadata": {},
     "output_type": "execute_result"
    }
   ],
   "execution_count": 23
  }
 ],
 "metadata": {
  "kernelspec": {
   "display_name": "Python 3",
   "language": "python",
   "name": "python3"
  },
  "language_info": {
   "codemirror_mode": {
    "name": "ipython",
    "version": 2
   },
   "file_extension": ".py",
   "mimetype": "text/x-python",
   "name": "python",
   "nbconvert_exporter": "python",
   "pygments_lexer": "ipython2",
   "version": "2.7.6"
  }
 },
 "nbformat": 4,
 "nbformat_minor": 5
}
